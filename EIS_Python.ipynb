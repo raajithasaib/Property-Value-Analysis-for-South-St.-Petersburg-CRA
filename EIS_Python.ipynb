{
 "cells": [
  {
   "cell_type": "code",
   "execution_count": 10,
   "id": "2b5b6182",
   "metadata": {},
   "outputs": [],
   "source": [
    "import pandas as pd\n"
   ]
  },
  {
   "cell_type": "code",
   "execution_count": 14,
   "id": "f9d77738",
   "metadata": {},
   "outputs": [],
   "source": [
    "data = '/Users/ranjithvennam7/Downloads/2015_NewNeighb_Boundaries with coordinates.xlsx'\n"
   ]
  },
  {
   "cell_type": "code",
   "execution_count": 18,
   "id": "8fc876c1",
   "metadata": {},
   "outputs": [],
   "source": [
    "df= pd.read_excel(data)"
   ]
  },
  {
   "cell_type": "code",
   "execution_count": 19,
   "id": "c387e0cd",
   "metadata": {},
   "outputs": [
    {
     "data": {
      "text/plain": [
       "PIN                                                 float64\n",
       "Assessment Year                                       int64\n",
       "Property Use                                         object\n",
       "Homestead                                            object\n",
       "Land Square Footage                                 float64\n",
       "Acres                                               float64\n",
       "Neighborhood                                         object\n",
       "Total Gross SF                                        int64\n",
       "Just Value                                            int64\n",
       "Assessed Value – School District                      int64\n",
       "Assessed Value – Non-School District                  int64\n",
       "Taxable Value – School District                       int64\n",
       "Taxable Value – Non-School District                   int64\n",
       "Land Value                                            int64\n",
       "Physical Address                                     object\n",
       "Physical City                                        object\n",
       "Physical Zip Code                                     int64\n",
       "Longitude                                           float64\n",
       "Latitude                                            float64\n",
       "Group 3 Question: Location Relevant to 5th Ave S     object\n",
       "dtype: object"
      ]
     },
     "execution_count": 19,
     "metadata": {},
     "output_type": "execute_result"
    }
   ],
   "source": [
    "df.dtypes"
   ]
  },
  {
   "cell_type": "code",
   "execution_count": 20,
   "id": "d39e66fb",
   "metadata": {
    "scrolled": true
   },
   "outputs": [
    {
     "data": {
      "text/plain": [
       "PIN                                                    1\n",
       "Assessment Year                                        0\n",
       "Property Use                                           2\n",
       "Homestead                                              2\n",
       "Land Square Footage                                    0\n",
       "Acres                                                  0\n",
       "Neighborhood                                           0\n",
       "Total Gross SF                                         0\n",
       "Just Value                                             0\n",
       "Assessed Value – School District                       0\n",
       "Assessed Value – Non-School District                   0\n",
       "Taxable Value – School District                        0\n",
       "Taxable Value – Non-School District                    0\n",
       "Land Value                                             0\n",
       "Physical Address                                      88\n",
       "Physical City                                         88\n",
       "Physical Zip Code                                      0\n",
       "Longitude                                           1878\n",
       "Latitude                                            1878\n",
       "Group 3 Question: Location Relevant to 5th Ave S       0\n",
       "dtype: int64"
      ]
     },
     "execution_count": 20,
     "metadata": {},
     "output_type": "execute_result"
    }
   ],
   "source": [
    "df.isna().sum()"
   ]
  },
  {
   "cell_type": "code",
   "execution_count": 24,
   "id": "35441f4d",
   "metadata": {},
   "outputs": [],
   "source": [
    "df1 = df.dropna(subset=['PIN', 'Property Use', 'Homestead', 'Physical Address', 'Physical City','Longitude','Latitude'])"
   ]
  },
  {
   "cell_type": "code",
   "execution_count": 25,
   "id": "9f70e664",
   "metadata": {},
   "outputs": [
    {
     "data": {
      "text/plain": [
       "PIN                                                 0\n",
       "Assessment Year                                     0\n",
       "Property Use                                        0\n",
       "Homestead                                           0\n",
       "Land Square Footage                                 0\n",
       "Acres                                               0\n",
       "Neighborhood                                        0\n",
       "Total Gross SF                                      0\n",
       "Just Value                                          0\n",
       "Assessed Value – School District                    0\n",
       "Assessed Value – Non-School District                0\n",
       "Taxable Value – School District                     0\n",
       "Taxable Value – Non-School District                 0\n",
       "Land Value                                          0\n",
       "Physical Address                                    0\n",
       "Physical City                                       0\n",
       "Physical Zip Code                                   0\n",
       "Longitude                                           0\n",
       "Latitude                                            0\n",
       "Group 3 Question: Location Relevant to 5th Ave S    0\n",
       "dtype: int64"
      ]
     },
     "execution_count": 25,
     "metadata": {},
     "output_type": "execute_result"
    }
   ],
   "source": [
    "df1.isna().sum()"
   ]
  },
  {
   "cell_type": "code",
   "execution_count": 26,
   "id": "358725d0",
   "metadata": {},
   "outputs": [],
   "source": [
    "df1.to_excel(\"/Users/ranjithvennam7/Downloads/2015data_updated.xlsx\", index=False)\n"
   ]
  },
  {
   "cell_type": "code",
   "execution_count": 43,
   "id": "3b4a2dfc",
   "metadata": {},
   "outputs": [],
   "source": [
    "data2 = '//Users/ranjithvennam7/Downloads/2022_NewNeighbBoundaries with coordinates.xlsx'"
   ]
  },
  {
   "cell_type": "code",
   "execution_count": 44,
   "id": "6f8f4ee1",
   "metadata": {},
   "outputs": [],
   "source": [
    "df2= pd.read_excel(data2)"
   ]
  },
  {
   "cell_type": "code",
   "execution_count": 45,
   "id": "310be814",
   "metadata": {},
   "outputs": [
    {
     "data": {
      "text/plain": [
       "PIN                                                   int64\n",
       "Assessment Year                                       int64\n",
       "Property Use                                         object\n",
       "Homestead                                            object\n",
       "Land Square Footage                                 float64\n",
       "Acres                                               float64\n",
       "Neighborhood                                         object\n",
       "Total Gross SF                                        int64\n",
       "Just Value                                            int64\n",
       "Assessed Value – School District                      int64\n",
       "Assessed Value – Non-School District                  int64\n",
       "Taxable Value – School District                       int64\n",
       "Taxable Value – Non-School District                   int64\n",
       "Land Value                                            int64\n",
       "Physical Address                                     object\n",
       "Physical City                                        object\n",
       "Physical Zip Code                                     int64\n",
       "Longitude                                           float64\n",
       "Latitude                                            float64\n",
       "Group 3 Question: Location Relevant to 5th Ave S     object\n",
       "dtype: object"
      ]
     },
     "execution_count": 45,
     "metadata": {},
     "output_type": "execute_result"
    }
   ],
   "source": [
    "df2.dtypes"
   ]
  },
  {
   "cell_type": "code",
   "execution_count": 46,
   "id": "dda8ba85",
   "metadata": {},
   "outputs": [
    {
     "data": {
      "text/plain": [
       "PIN                                                    0\n",
       "Assessment Year                                        0\n",
       "Property Use                                          23\n",
       "Homestead                                             19\n",
       "Land Square Footage                                    0\n",
       "Acres                                                  0\n",
       "Neighborhood                                           0\n",
       "Total Gross SF                                         0\n",
       "Just Value                                             0\n",
       "Assessed Value – School District                       0\n",
       "Assessed Value – Non-School District                   0\n",
       "Taxable Value – School District                        0\n",
       "Taxable Value – Non-School District                    0\n",
       "Land Value                                             0\n",
       "Physical Address                                      83\n",
       "Physical City                                         83\n",
       "Physical Zip Code                                      0\n",
       "Longitude                                           1412\n",
       "Latitude                                              83\n",
       "Group 3 Question: Location Relevant to 5th Ave S       0\n",
       "dtype: int64"
      ]
     },
     "execution_count": 46,
     "metadata": {},
     "output_type": "execute_result"
    }
   ],
   "source": [
    "df2.isna().sum()"
   ]
  },
  {
   "cell_type": "code",
   "execution_count": 47,
   "id": "668b1ca2",
   "metadata": {},
   "outputs": [],
   "source": [
    "df3 = df2.dropna(subset=['Property Use', 'Homestead', 'Physical Address', 'Physical City','Longitude','Latitude'])"
   ]
  },
  {
   "cell_type": "code",
   "execution_count": 49,
   "id": "078d5229",
   "metadata": {},
   "outputs": [
    {
     "data": {
      "text/plain": [
       "PIN                                                 0\n",
       "Assessment Year                                     0\n",
       "Property Use                                        0\n",
       "Homestead                                           0\n",
       "Land Square Footage                                 0\n",
       "Acres                                               0\n",
       "Neighborhood                                        0\n",
       "Total Gross SF                                      0\n",
       "Just Value                                          0\n",
       "Assessed Value – School District                    0\n",
       "Assessed Value – Non-School District                0\n",
       "Taxable Value – School District                     0\n",
       "Taxable Value – Non-School District                 0\n",
       "Land Value                                          0\n",
       "Physical Address                                    0\n",
       "Physical City                                       0\n",
       "Physical Zip Code                                   0\n",
       "Longitude                                           0\n",
       "Latitude                                            0\n",
       "Group 3 Question: Location Relevant to 5th Ave S    0\n",
       "dtype: int64"
      ]
     },
     "execution_count": 49,
     "metadata": {},
     "output_type": "execute_result"
    }
   ],
   "source": [
    "df3.isna().sum()"
   ]
  },
  {
   "cell_type": "code",
   "execution_count": 50,
   "id": "5a890755",
   "metadata": {},
   "outputs": [],
   "source": [
    "df3.to_excel(\"/Users/ranjithvennam7/Downloads/2022data_updated.xlsx\", index=False)"
   ]
  },
  {
   "cell_type": "code",
   "execution_count": 51,
   "id": "c4e9f580",
   "metadata": {},
   "outputs": [],
   "source": [
    "import pandas as pd\n"
   ]
  },
  {
   "cell_type": "code",
   "execution_count": 68,
   "id": "7ab66ebb",
   "metadata": {},
   "outputs": [],
   "source": [
    "excel1= '/Users/ranjithvennam7/Downloads/2015data_updated.xlsx'"
   ]
  },
  {
   "cell_type": "code",
   "execution_count": 69,
   "id": "ff80c59a",
   "metadata": {},
   "outputs": [],
   "source": [
    "excel2='/Users/ranjithvennam7/Downloads/2022data_updated.xlsx'"
   ]
  },
  {
   "cell_type": "code",
   "execution_count": 70,
   "id": "41f21eea",
   "metadata": {},
   "outputs": [],
   "source": [
    "df10 = pd.read_excel(excel1)"
   ]
  },
  {
   "cell_type": "code",
   "execution_count": 71,
   "id": "db41b42e",
   "metadata": {},
   "outputs": [],
   "source": [
    "df11 = pd.read_excel(excel2)"
   ]
  },
  {
   "cell_type": "code",
   "execution_count": 72,
   "id": "7b631a7c",
   "metadata": {},
   "outputs": [
    {
     "name": "stdout",
     "output_type": "stream",
     "text": [
      "                      PIN  Assessment Year  \\\n",
      "0      273116498780070112             2015   \n",
      "1      333116967140030208             2015   \n",
      "2      363116491760000384             2015   \n",
      "3      253116296820100096             2015   \n",
      "4      233116783900320000             2015   \n",
      "...                   ...              ...   \n",
      "12922  363116653580049984             2015   \n",
      "12923  363116490680000320             2015   \n",
      "12924  253116142200000000             2015   \n",
      "12925  253116296640070016             2015   \n",
      "12926  333116113940150272             2015   \n",
      "\n",
      "                                         Property Use Homestead  \\\n",
      "0                                  Single Family Home        No   \n",
      "1                                  Single Family Home       Yes   \n",
      "2                                  Single Family Home        No   \n",
      "3                                  Single Family Home        No   \n",
      "4                                   General Warehouse        No   \n",
      "...                                               ...       ...   \n",
      "12922                              Single Family Home       Yes   \n",
      "12923                              Single Family Home       Yes   \n",
      "12924                              Single Family Home       Yes   \n",
      "12925                              Single Family Home        No   \n",
      "12926  Single Family - more than one house per parcel       Yes   \n",
      "\n",
      "       Land Square Footage     Acres          Neighborhood  Total Gross SF  \\\n",
      "0              6074.899398  0.139461           CHILDS PARK            1540   \n",
      "1              5529.363480  0.126937           TWIN BROOKS            1380   \n",
      "2              5966.722125  0.136977  LAKE MAGGIORE SHORES            1128   \n",
      "3              6162.907718  0.141481     FRUITLAND HEIGHTS            1293   \n",
      "4             24273.093507  0.557234         PALMETTO PARK           11044   \n",
      "...                    ...       ...                   ...             ...   \n",
      "12922         10116.878839  0.232252            HARBORDALE            1652   \n",
      "12923          7171.864576  0.164643  LAKE MAGGIORE SHORES            1886   \n",
      "12924          5260.810872  0.120772        CASLER HEIGHTS            1557   \n",
      "12925          6142.190545  0.141005     FRUITLAND HEIGHTS             942   \n",
      "12926          9360.017061  0.214876           TWIN BROOKS             864   \n",
      "\n",
      "       Just Value  Assessed Value – School District  \\\n",
      "0           40950                             40950   \n",
      "1           40607                             30181   \n",
      "2           32078                             32078   \n",
      "3           30519                             30519   \n",
      "4          228000                            228000   \n",
      "...           ...                               ...   \n",
      "12922       35627                             32121   \n",
      "12923       59482                             37748   \n",
      "12924       63122                             59336   \n",
      "12925       29454                             29454   \n",
      "12926       68150                             34486   \n",
      "\n",
      "       Assessed Value – Non-School District  Taxable Value – School District  \\\n",
      "0                                     27533                            40950   \n",
      "1                                     30181                             5181   \n",
      "2                                     27926                            32078   \n",
      "3                                     30519                            30519   \n",
      "4                                    228000                           228000   \n",
      "...                                     ...                              ...   \n",
      "12922                                 32121                             7121   \n",
      "12923                                 37748                            12748   \n",
      "12924                                 44902                            54096   \n",
      "12925                                 29454                            29454   \n",
      "12926                                 34486                             9486   \n",
      "\n",
      "       Taxable Value – Non-School District  Land Value Physical Address  \\\n",
      "0                                    27533        4772  3834 14TH AVE S   \n",
      "1                                     5181        4180   2447 46TH ST S   \n",
      "2                                    27926        7934   2424 13TH ST S   \n",
      "3                                    30519        5427  1817 20TH AVE S   \n",
      "4                                   228000       97941    323 23RD ST S   \n",
      "...                                    ...         ...              ...   \n",
      "12922                                 7121        7113   746 26TH AVE S   \n",
      "12923                                12748        9669  2500 QUEEN ST S   \n",
      "12924                                39662        7452  2155 22ND AVE S   \n",
      "12925                                29454        5575   2001 16TH ST S   \n",
      "12926                                 9486        9616  4715 26TH AVE S   \n",
      "\n",
      "       Physical City  Physical Zip Code  Longitude   Latitude  \\\n",
      "0      ST PETERSBURG              33711 -82.685318  27.756458   \n",
      "1      ST PETERSBURG              33711 -82.695677  27.746330   \n",
      "2      ST PETERSBURG              33705 -82.652039  27.746092   \n",
      "3      ST PETERSBURG              33712 -82.658132  27.750284   \n",
      "4      ST PETERSBURG              33712 -82.664484  27.768102   \n",
      "...              ...                ...        ...        ...   \n",
      "12922  ST PETERSBURG              33705 -82.643418  27.744778   \n",
      "12923  ST PETERSBURG              33712 -82.657241  27.745577   \n",
      "12924  ST PETERSBURG              33712 -82.662128  27.748461   \n",
      "12925  ST PETERSBURG              33705 -82.654810  27.750168   \n",
      "12926  ST PETERSBURG              33711 -82.697888  27.744734   \n",
      "\n",
      "      Group 3 Question: Location Relevant to 5th Ave S  \n",
      "0                                   South of 5th Ave S  \n",
      "1                                   South of 5th Ave S  \n",
      "2                                   South of 5th Ave S  \n",
      "3                                   South of 5th Ave S  \n",
      "4                                On/North of 5th Ave S  \n",
      "...                                                ...  \n",
      "12922                               South of 5th Ave S  \n",
      "12923                               South of 5th Ave S  \n",
      "12924                               South of 5th Ave S  \n",
      "12925                               South of 5th Ave S  \n",
      "12926                               South of 5th Ave S  \n",
      "\n",
      "[12927 rows x 20 columns]\n"
     ]
    }
   ],
   "source": [
    "print(df10)"
   ]
  },
  {
   "cell_type": "code",
   "execution_count": 73,
   "id": "7ed16187",
   "metadata": {},
   "outputs": [],
   "source": [
    "dataframes = [df10,df11]"
   ]
  },
  {
   "cell_type": "code",
   "execution_count": 74,
   "id": "36b0b86f",
   "metadata": {},
   "outputs": [],
   "source": [
    "join = pd.concat(dataframes)"
   ]
  },
  {
   "cell_type": "code",
   "execution_count": 75,
   "id": "047e46c4",
   "metadata": {},
   "outputs": [],
   "source": [
    "join.to_excel(\"/Users/ranjithvennam7/Downloads/2015&2022data_updated.xlsx\")"
   ]
  },
  {
   "cell_type": "code",
   "execution_count": null,
   "id": "f5438abb",
   "metadata": {},
   "outputs": [],
   "source": []
  }
 ],
 "metadata": {
  "kernelspec": {
   "display_name": "Python 3 (ipykernel)",
   "language": "python",
   "name": "python3"
  },
  "language_info": {
   "codemirror_mode": {
    "name": "ipython",
    "version": 3
   },
   "file_extension": ".py",
   "mimetype": "text/x-python",
   "name": "python",
   "nbconvert_exporter": "python",
   "pygments_lexer": "ipython3",
   "version": "3.11.4"
  }
 },
 "nbformat": 4,
 "nbformat_minor": 5
}
